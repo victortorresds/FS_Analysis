{
 "cells": [
  {
   "cell_type": "markdown",
   "metadata": {},
   "source": [
    "# **Story - 6 : What Is The State of Food Security and Nutrition in the US**\n",
    "## **Victor H Torres.**\n",
    "##  **DATA 608**\n",
    "## **11/17/2024**\n",
    "\n",
    "### **Instructions**\n",
    "\n",
    "The United Nations Food and Agriculture Organization publication, The State of Food Security and Nutrition in the World 2022 (https://www.fao.org/documents/card/en/c/cc0639en) might lead one to the conclusion that it's an elsewhere problem. That the people who are suffering malnutrition and starvation are \"elsewhere\", not in our backyard. For this assignment you will need to take a closer look here at home (the US).  Are US children suffering these plights?\n",
    "\n",
    "* You may use ANY graphical package that you find useful including PowerBI, Tableau, etc.\n",
    "* You will need to locate and source data that reflects food security and nutrition by state broken down by men, women, children and by age groups.\n",
    "* Your analysis should demonstrate correlations that exist between level of poverty and food insecurity, malnutrition and starvation.\n",
    "* Your data and analysis should also indicate what happens to the children as they mature into adults. Will they become fully functional citizens or will they require continued support?\n",
    "* Your data visualizations need to tell the story for a U.S. Senator that you were lobbying to address the issue of food insecurity in the US.\n",
    "* You  should provide NO MORE than 2 visualizations to address your point, and, in one paragraph, you must demonstrate that these visualizations require redress by the political audience, as the individual only has time for you in the elevator."
   ]
  },
  {
   "cell_type": "code",
   "execution_count": 1,
   "metadata": {},
   "outputs": [],
   "source": [
    "# libraries for this project\n",
    "import matplotlib.pyplot as plt\n",
    "import numpy as np\n",
    "import pandas as pd\n",
    "from matplotlib.gridspec import GridSpec, GridSpecFromSubplotSpec\n",
    "import plotly.io as pio\n",
    "pio.renderers.default = 'notebook_connected'\n",
    "import seaborn as sns\n",
    "import geopandas as gpd\n",
    "import plotly as px\n",
    "from mpl_toolkits.axes_grid1.inset_locator import inset_axes"
   ]
  },
  {
   "cell_type": "code",
   "execution_count": null,
   "metadata": {},
   "outputs": [],
   "source": [
    "import subprocess\n",
    "\n",
    "# Command to execute nbconvert\n",
    "subprocess.run([\"jupyter\", \"nbconvert\", \"--to\", \"html\", \"--execute\", \"Story6.ipynb\"])\n"
   ]
  },
  {
   "cell_type": "code",
   "execution_count": null,
   "metadata": {},
   "outputs": [
    {
     "name": "stdout",
     "output_type": "stream",
     "text": [
      "<bound method NDFrame.head of                  HRHHID  HRMONTH  HRYEAR4  HURESPLI  HUFINAL  FILLER  \\\n",
      "0        70061014511774       12     2023         1      201     NaN   \n",
      "1        70061014511774       12     2023         1      201     NaN   \n",
      "2        70061014511774       12     2023         1      201     NaN   \n",
      "3        70061014511774       12     2023         1      201     NaN   \n",
      "4        70061014511774       12     2023         1      201     NaN   \n",
      "...                 ...      ...      ...       ...      ...     ...   \n",
      "126827  790456071508119       12     2023         2      201     NaN   \n",
      "126828  962070105399566       12     2023         1      201     NaN   \n",
      "126829  962070105399566       12     2023         1      201     NaN   \n",
      "126830  962070105399566       12     2023         1      201     NaN   \n",
      "126831  658406016540710       12     2023         1      218     NaN   \n",
      "\n",
      "        HETENURE  HEHOUSUT  HETELHHD  HETELAVL  ...  HRFS30D1  HRFS30D2  \\\n",
      "0              2         1         1        -1  ...         1         1   \n",
      "1              2         1         1        -1  ...         1         1   \n",
      "2              2         1         1        -1  ...         1         1   \n",
      "3              2         1         1        -1  ...         1         1   \n",
      "4              2         1         1        -1  ...         1         1   \n",
      "...          ...       ...       ...       ...  ...       ...       ...   \n",
      "126827         1         1         1        -1  ...        -1        -1   \n",
      "126828         1         1         1        -1  ...        -1        -1   \n",
      "126829         1         1         1        -1  ...        -1        -1   \n",
      "126830         1         1         1        -1  ...        -1        -1   \n",
      "126831         1         5         1        -1  ...        -1        -1   \n",
      "\n",
      "        HRFS30D3  HRFS30D4  HRFS30D5  HRFS30D6  HRFS30D7  HRFS30D8  HRFS30D9  \\\n",
      "0              0        -6         1         0        -6         1         0   \n",
      "1              0        -6         1         0        -6         1         0   \n",
      "2              0        -6         1         0        -6         1         0   \n",
      "3              0        -6         1         0        -6         1         0   \n",
      "4              0        -6         1         0        -6         1         0   \n",
      "...          ...       ...       ...       ...       ...       ...       ...   \n",
      "126827        -1        -1        -1        -1        -1        -1        -1   \n",
      "126828        -1        -1        -1        -1        -1        -1        -1   \n",
      "126829        -1        -1        -1        -1        -1        -1        -1   \n",
      "126830        -1        -1        -1        -1        -1        -1        -1   \n",
      "126831        -1        -1        -1        -1        -1        -1        -1   \n",
      "\n",
      "        HRFS30DE  \n",
      "0             -6  \n",
      "1             -6  \n",
      "2             -6  \n",
      "3             -6  \n",
      "4             -6  \n",
      "...          ...  \n",
      "126827        -1  \n",
      "126828        -1  \n",
      "126829        -1  \n",
      "126830        -1  \n",
      "126831        -1  \n",
      "\n",
      "[126832 rows x 508 columns]>\n"
     ]
    }
   ],
   "source": [
    "# Load Data for analysis\n",
    "data6 = pd.read_csv(\"C:/Users/vitug/OneDrive/Desktop/CUNY Masters/DATA_608/dec23pub.csv\") \n",
    "print(data6.head)"
   ]
  },
  {
   "cell_type": "code",
   "execution_count": 53,
   "metadata": {},
   "outputs": [],
   "source": [
    "#Clean DataFrame and select columns need it for this project\n",
    "def clean_cps_fss(data6):\n",
    "    \"\"\"\n",
    "    Clean and subset CPS Food Security Supplement data to key variables of interest,\n",
    "    with additional calculation for a poverty indicator.\n",
    "    \n",
    "    Args:\n",
    "        df: pandas DataFrame with original CPS FSS data\n",
    "    \n",
    "    Returns:\n",
    "        DataFrame with cleaned and renamed columns, subset to key variables,\n",
    "        and an added poverty indicator column.\n",
    "    \"\"\"\n",
    "    state_fips = {\n",
    "        1: 'Alabama', 2: 'Alaska', 4: 'Arizona', 5: 'Arkansas', 6: 'California',\n",
    "        8: 'Colorado', 9: 'Connecticut', 10: 'Delaware', 11: 'District of Columbia',\n",
    "        12: 'Florida', 13: 'Georgia', 15: 'Hawaii', 16: 'Idaho', 17: 'Illinois',\n",
    "        18: 'Indiana', 19: 'Iowa', 20: 'Kansas', 21: 'Kentucky', 22: 'Louisiana',\n",
    "        23: 'Maine', 24: 'Maryland', 25: 'Massachusetts', 26: 'Michigan',\n",
    "        27: 'Minnesota', 28: 'Mississippi', 29: 'Missouri', 30: 'Montana',\n",
    "        31: 'Nebraska', 32: 'Nevada', 33: 'New Hampshire', 34: 'New Jersey',\n",
    "        35: 'New Mexico', 36: 'New York', 37: 'North Carolina', 38: 'North Dakota',\n",
    "        39: 'Ohio', 40: 'Oklahoma', 41: 'Oregon', 42: 'Pennsylvania',\n",
    "        44: 'Rhode Island', 45: 'South Carolina', 46: 'South Dakota',\n",
    "        47: 'Tennessee', 48: 'Texas', 49: 'Utah', 50: 'Vermont', 51: 'Virginia',\n",
    "        53: 'Washington', 54: 'West Virginia', 55: 'Wisconsin', 56: 'Wyoming'\n",
    "    }\n",
    "\n",
    "    # Key variables to keep and their readable names\n",
    "    columns_to_keep = {\n",
    "        # Identifiers\n",
    "        'HRHHID': 'household_id',\n",
    "        'HRHHID2': 'household_id_2',\n",
    "        \n",
    "        # Demographic characteristics\n",
    "        'PRTAGE': 'age',\n",
    "        'PESEX': 'sex',\n",
    "        'PEEDUCA': 'education',\n",
    "        'PTDTRACE': 'race',\n",
    "        'PEHSPNON': 'hispanic',\n",
    "        'HEFAMINC': 'family_income',\n",
    "        'HRNUMHOU': 'household_size',\n",
    "        'HETENURE': 'housing_tenure',\n",
    "        \n",
    "        # Geography\n",
    "        'GESTFIPS': 'state_fips',\n",
    "        'GEREG': 'region',\n",
    "        'GTMETSTA': 'metro_status',\n",
    "        \n",
    "        # Food Security Status\n",
    "        'HRFS12M1': 'food_security_status',\n",
    "        'HRFS12MC': 'child_food_security',\n",
    "        'HRFS12M8': 'adult_food_security',\n",
    "        \n",
    "        # Food Spending\n",
    "        'HETS8O': 'weekly_food_spending',\n",
    "        'HETS8OU': 'usual_weekly_food_spending',\n",
    "        \n",
    "        # Program Participation  \n",
    "        'HESP1': 'received_snap',\n",
    "        'HESP6': 'received_school_lunch',\n",
    "        'HESP7': 'received_school_breakfast',\n",
    "        'HESP8': 'received_wic',\n",
    "        \n",
    "        # Weights\n",
    "        'PWSUPWGT': 'person_supplement_weight',\n",
    "        'HHSUPWGT': 'household_supplement_weight'\n",
    "    }\n",
    "    \n",
    "    # Create subset with renamed columns\n",
    "    df_clean = data6[columns_to_keep.keys()].copy()\n",
    "    df_clean = df_clean.rename(columns=columns_to_keep)\n",
    "    \n",
    "    # Value labels for categorical variables\n",
    "    value_labels = {\n",
    "        'food_security_status': {-1: 'High Security', 1: 'Security', 2: 'Low Security', 3: 'Very Low Security', -9: 'Very Low Security'},\n",
    "        'child_food_security' : {-1: 'High Security', 1: 'Security', 2: 'Low Security', 3: 'Very Low Security', -9: 'Very Low Security'},\n",
    "        'adult_food_security' : {-1: 'High Security', 1: 'Security', 2: 'Low Security', 3: 'Very Low Security',4: 'Very Low Security', -9: 'Very Low Security'},\n",
    "        'sex': {1: 'Male', 2: 'Female'},\n",
    "        'hispanic': {1: 'Hispanic', 2: 'Non-Hispanic'},\n",
    "        'housing_tenure': {1: 'Owned/Being Bought', 2: 'Rented', 3: 'Occupied without payment'},\n",
    "        'region': {1: 'Northeast', 2: 'Midwest', 3: 'South', 4: 'West'},\n",
    "        'metro_status': {1: 'Metropolitan', 2: 'Non-metropolitan', 3: 'Not Identified'},\n",
    "        'family_income': {\n",
    "            1: 'Less than $5,000', 2: '$5,000 to $7,499', 3: '$7,500 to $9,999',\n",
    "            4: '$10,000 to $12,499', 5: '$12,500 to $14,999', 6: '$15,000 to $19,999',\n",
    "            7: '$20,000 to $24,999', 8: '$25,000 to $29,999', 9: '$30,000 to $34,999',\n",
    "            10: '$35,000 to $39,999', 11: '$40,000 to $49,999', 12: '$50,000 to $59,999',\n",
    "            13: '$60,000 to $74,999', 14: '$75,000 to $99,999', 15: '$100,000 to $149,999',\n",
    "            16: '$150,000 or more'\n",
    "        },\n",
    "        'received_snap': {1: 'Yes', 2: 'No'},\n",
    "        'received_school_lunch': {1: 'Yes', 2: 'No'},\n",
    "        'received_school_breakfast': {1: 'Yes', 2: 'No'},\n",
    "        'received_wic': {1: 'Yes', 2: 'No'},\n",
    "        'education': {\n",
    "            -1: 'Not_relevant', -2: 'Dont_know', -3: 'Refused_to_answer', -9: 'No_response',\n",
    "            31: 'Less_than_1st_grade', 32: '1st-4th_grade', 33: '5th-6th_grade', 34: '7th-8th_grade',\n",
    "            35: '9th_grade', 36: '10th_grade', 37: '11th_grade', 38: '12th_grade,_no_diploma',\n",
    "            39: 'High_school_graduate_diploma_or_GED', 40: 'Some_college_no_degree',\n",
    "            41: 'Associate_degree_occupational_vocational', 42: 'Associate_degree_academic_program',\n",
    "            43: \"Bachelors_degree\", 44: \"Masters_degree\", 45: 'Professional_school_degree_MD_DDS_DVM_etc',\n",
    "            46: 'Doctorate_degree_PhD_EdD'\n",
    "        }\n",
    "    }\n",
    "    \n",
    "    # Apply value labels\n",
    "    for col, val_map in value_labels.items():\n",
    "        if col in df_clean.columns:\n",
    "            df_clean[col] = df_clean[col].map(val_map).fillna(df_clean[col])\n",
    "            \n",
    "    # Convert weights by dividing by 10000\n",
    "    weight_cols = ['person_supplement_weight', 'household_supplement_weight']\n",
    "    for col in weight_cols:\n",
    "        if col in df_clean.columns:\n",
    "            df_clean[col] = df_clean[col] / 10000\n",
    "    \n",
    "    # Create a state column\n",
    "    df_clean['state'] = df_clean['state_fips'].map(state_fips)\n",
    "    \n",
    "    # Define poverty income threshold categories\n",
    "    poverty_income_levels = [\n",
    "        'Less than $5,000', '$5,000 to $7,499', '$7,500 to $9,999', '$10,000 to $12,499',\n",
    "        '$12,500 to $14,999', '$15,000 to $19,999', '$20,000 to $24,999', '$25,000 to $29,999',\n",
    "        '$30,000 to $34,999', '$35,000 to $39,999'\n",
    "    ]\n",
    "    \n",
    "    # Create poverty indicator based on income and program participation\n",
    "    df_clean['poverty_indicator'] = df_clean['family_income'].apply(lambda x: 1 if x in poverty_income_levels else 0)\n",
    "    \n",
    "    # Add to poverty indicator if received benefits (any program participation marked 'Yes')\n",
    "    program_columns = ['received_snap', 'received_school_lunch', 'received_school_breakfast', 'received_wic']\n",
    "    for col in program_columns:\n",
    "        df_clean['poverty_indicator'] = df_clean.apply(lambda row: 1 if row[col] == 'Yes' else row['poverty_indicator'], axis=1)\n",
    "    \n",
    "    return df_clean\n",
    "\n",
    "   "
   ]
  },
  {
   "cell_type": "code",
   "execution_count": 55,
   "metadata": {},
   "outputs": [
    {
     "name": "stdout",
     "output_type": "stream",
     "text": [
      "<bound method NDFrame.head of            household_id  household_id_2  age     sex  \\\n",
      "0        70061014511774           16011   43  Female   \n",
      "1        70061014511774           16011   44    Male   \n",
      "2        70061014511774           16011   13  Female   \n",
      "3        70061014511774           16011   15  Female   \n",
      "4        70061014511774           16011   20  Female   \n",
      "...                 ...             ...  ...     ...   \n",
      "126827  790456071508119           16111   64  Female   \n",
      "126828  962070105399566           17111   35    Male   \n",
      "126829  962070105399566           17111   31  Female   \n",
      "126830  962070105399566           17111    0  Female   \n",
      "126831  658406016540710           16111   -1      -1   \n",
      "\n",
      "                                  education  race      hispanic  \\\n",
      "0                            Masters_degree     2  Non-Hispanic   \n",
      "1       High_school_graduate_diploma_or_GED     2  Non-Hispanic   \n",
      "2                              Not_relevant     2  Non-Hispanic   \n",
      "3                                 9th_grade     2  Non-Hispanic   \n",
      "4       High_school_graduate_diploma_or_GED     2  Non-Hispanic   \n",
      "...                                     ...   ...           ...   \n",
      "126827  High_school_graduate_diploma_or_GED     1  Non-Hispanic   \n",
      "126828    Associate_degree_academic_program     1  Non-Hispanic   \n",
      "126829    Associate_degree_academic_program     1  Non-Hispanic   \n",
      "126830                         Not_relevant     1  Non-Hispanic   \n",
      "126831                         Not_relevant    -1            -1   \n",
      "\n",
      "             family_income  household_size      housing_tenure  ...  \\\n",
      "0       $75,000 to $99,999               5              Rented  ...   \n",
      "1       $75,000 to $99,999               5              Rented  ...   \n",
      "2       $75,000 to $99,999               5              Rented  ...   \n",
      "3       $75,000 to $99,999               5              Rented  ...   \n",
      "4       $75,000 to $99,999               5              Rented  ...   \n",
      "...                    ...             ...                 ...  ...   \n",
      "126827  $50,000 to $59,999               2  Owned/Being Bought  ...   \n",
      "126828  $60,000 to $74,999               3  Owned/Being Bought  ...   \n",
      "126829  $60,000 to $74,999               3  Owned/Being Bought  ...   \n",
      "126830  $60,000 to $74,999               3  Owned/Being Bought  ...   \n",
      "126831                  -1               2  Owned/Being Bought  ...   \n",
      "\n",
      "        weekly_food_spending usual_weekly_food_spending received_snap  \\\n",
      "0                        230                        280            -1   \n",
      "1                        230                        280            -1   \n",
      "2                        230                        280            -1   \n",
      "3                        230                        280            -1   \n",
      "4                        230                        280            -1   \n",
      "...                      ...                        ...           ...   \n",
      "126827                    -1                         -1            -1   \n",
      "126828                    -1                         -1            -1   \n",
      "126829                    -1                         -1            -1   \n",
      "126830                    -1                         -1            -1   \n",
      "126831                    -1                         -1            -1   \n",
      "\n",
      "       received_school_lunch received_school_breakfast received_wic  \\\n",
      "0                         -1                        -1           -1   \n",
      "1                         -1                        -1           -1   \n",
      "2                         -1                        -1           -1   \n",
      "3                         -1                        -1           -1   \n",
      "4                         -1                        -1           -1   \n",
      "...                      ...                       ...          ...   \n",
      "126827                    -1                        -1           -1   \n",
      "126828                    -1                        -1           -1   \n",
      "126829                    -1                        -1           -1   \n",
      "126830                    -1                        -1           -1   \n",
      "126831                    -1                        -1           -1   \n",
      "\n",
      "        person_supplement_weight  household_supplement_weight    state  \\\n",
      "0                      3267.0314                    3267.0314  Alabama   \n",
      "1                      3227.4523                    3267.0314  Alabama   \n",
      "2                      4634.0388                    3267.0314  Alabama   \n",
      "3                      5084.4886                    3267.0314  Alabama   \n",
      "4                      5443.0958                    3267.0314  Alabama   \n",
      "...                          ...                          ...      ...   \n",
      "126827                    0.0000                       0.0000  Wyoming   \n",
      "126828                    0.0000                       0.0000  Wyoming   \n",
      "126829                    0.0000                       0.0000  Wyoming   \n",
      "126830                    0.0000                       0.0000  Wyoming   \n",
      "126831                    0.0000                       0.0000  Wyoming   \n",
      "\n",
      "       poverty_indicator  \n",
      "0                      0  \n",
      "1                      0  \n",
      "2                      0  \n",
      "3                      0  \n",
      "4                      0  \n",
      "...                  ...  \n",
      "126827                 0  \n",
      "126828                 0  \n",
      "126829                 0  \n",
      "126830                 0  \n",
      "126831                 0  \n",
      "\n",
      "[126832 rows x 26 columns]>\n"
     ]
    }
   ],
   "source": [
    "# Load cleaned DataFrame\n",
    "cleaned_data = clean_cps_fss(data6)\n",
    "\n",
    "# Print DF\n",
    "print(cleaned_data.head)"
   ]
  },
  {
   "cell_type": "code",
   "execution_count": 56,
   "metadata": {},
   "outputs": [
    {
     "name": "stdout",
     "output_type": "stream",
     "text": [
      "['AL' 'CT' 'DE' nan 'FL' 'GA' 'KY' 'LA' 'ME' 'MD' 'MA' 'MS' 'NH' 'NJ' 'NY'\n",
      " 'NC' 'OH' 'PA' 'RI' 'SC' 'TN' 'VT' 'VA' 'WV' 'AK' 'AZ' 'AR' 'CA' 'CO'\n",
      " 'HI' 'ID' 'IL' 'IN' 'IA' 'KS' 'MI' 'MN' 'MO' 'NE' 'NV' 'NM' 'ND' 'OR'\n",
      " 'SD' 'TX' 'UT' 'WA' 'WI' 'WY' 'MT' 'OK']\n",
      "1149\n",
      "   state_abbrev food_security_status\n",
      "2            AL             Security\n",
      "3            AL             Security\n",
      "14           AL        High Security\n",
      "15           AL        High Security\n",
      "21           AL        High Security\n",
      "food_security_status\n",
      "High Security        33708\n",
      "Security             12831\n",
      "Low Security          1868\n",
      "Very Low Security      914\n",
      "Name: count, dtype: int64\n"
     ]
    }
   ],
   "source": [
    "# Create a dictionary mapping state names to abbreviations\n",
    "from us import states\n",
    "state_to_abbrev = {state.name: state.abbr for state in states.STATES}\n",
    "\n",
    "# Map state names to abbreviations\n",
    "children_data['state_abbrev'] = children_data['state'].map(state_to_abbrev)\n",
    "print(children_data['state_abbrev'].unique())  # Check unique values\n",
    "print(children_data['state_abbrev'].isna().sum())  # Count NaNs\n",
    "print(children_data[['state_abbrev', 'food_security_status']].head())\n",
    "print(children_data['food_security_status'].value_counts())"
   ]
  },
  {
   "cell_type": "code",
   "execution_count": 57,
   "metadata": {},
   "outputs": [
    {
     "name": "stdout",
     "output_type": "stream",
     "text": [
      "  state_abbrev  food_insecurity_rate\n",
      "0           AK                   0.0\n",
      "1           AL                   0.0\n",
      "2           AR                   0.0\n",
      "3           AZ                   0.0\n",
      "4           CA                   0.0\n"
     ]
    }
   ],
   "source": [
    "# create a variable for visuals\n",
    "aggregated_data = children_data.groupby('state_abbrev').agg(\n",
    "    food_insecurity_rate=('food_security_status', lambda x: (x == 'Low food security').mean())\n",
    ").reset_index()\n",
    "\n",
    "print(aggregated_data.head())"
   ]
  },
  {
   "cell_type": "code",
   "execution_count": 58,
   "metadata": {},
   "outputs": [
    {
     "name": "stdout",
     "output_type": "stream",
     "text": [
      "['District of Columbia']\n",
      "  state_abbrev  food_insecurity_rate\n",
      "0           AK              0.025680\n",
      "1           AL              0.029126\n",
      "2           AR              0.076074\n",
      "3           AZ              0.015713\n",
      "4           CA              0.058996\n"
     ]
    },
    {
     "name": "stderr",
     "output_type": "stream",
     "text": [
      "C:\\Users\\vitug\\AppData\\Local\\Temp\\ipykernel_18000\\3998138323.py:8: FutureWarning:\n",
      "\n",
      "A value is trying to be set on a copy of a DataFrame or Series through chained assignment using an inplace method.\n",
      "The behavior will change in pandas 3.0. This inplace method will never work because the intermediate object on which we are setting values always behaves as a copy.\n",
      "\n",
      "For example, when doing 'df[col].method(value, inplace=True)', try using 'df.method({col: value}, inplace=True)' or df[col] = df[col].method(value) instead, to perform the operation inplace on the original object.\n",
      "\n",
      "\n",
      "\n"
     ]
    }
   ],
   "source": [
    "# Handle missing data for analysis\n",
    "missing_states = children_data[children_data['state_abbrev'].isna()]\n",
    "print(missing_states['state'].unique())  \n",
    "manual_mapping = {\n",
    "    'District of Columbia': 'DC',\n",
    "    'Puerto Rico': 'PR'  # Example for non-states\n",
    "}\n",
    "children_data['state_abbrev'].fillna(children_data['state'].map(manual_mapping), inplace=True)\n",
    "aggregated_data = children_data.groupby('state_abbrev').agg(\n",
    "    food_insecurity_rate=('food_security_status', lambda x: (x == 'Low Security').mean())\n",
    ").reset_index()\n",
    "print(aggregated_data.head())"
   ]
  },
  {
   "cell_type": "code",
   "execution_count": 61,
   "metadata": {},
   "outputs": [
    {
     "data": {
      "application/vnd.plotly.v1+json": {
       "config": {
        "plotlyServerURL": "https://plot.ly"
       },
       "data": [
        {
         "coloraxis": "coloraxis",
         "customdata": [
          [
           0.03927492447129909,
           0.055891238670694864,
           "Child Food Security: 0.04<br>Adult Food Security: 0.06"
          ],
          [
           0.018446601941747572,
           0.03300970873786408,
           "Child Food Security: 0.02<br>Adult Food Security: 0.03"
          ],
          [
           0.044171779141104296,
           0.0638036809815951,
           "Child Food Security: 0.04<br>Adult Food Security: 0.06"
          ],
          [
           0.007856341189674524,
           0.024691358024691357,
           "Child Food Security: 0.01<br>Adult Food Security: 0.02"
          ],
          [
           0.035221602582917524,
           0.057822130906956266,
           "Child Food Security: 0.04<br>Adult Food Security: 0.06"
          ],
          [
           0.010398613518197574,
           0.019064124783362217,
           "Child Food Security: 0.01<br>Adult Food Security: 0.02"
          ],
          [
           0.022321428571428572,
           0.06696428571428571,
           "Child Food Security: 0.02<br>Adult Food Security: 0.07"
          ],
          [
           0.004351610095735422,
           0.014795474325500435,
           "Child Food Security: 0.0<br>Adult Food Security: 0.01"
          ],
          [
           0.028481012658227847,
           0.03322784810126582,
           "Child Food Security: 0.03<br>Adult Food Security: 0.03"
          ],
          [
           0.017975402081362345,
           0.03736991485335856,
           "Child Food Security: 0.02<br>Adult Food Security: 0.04"
          ],
          [
           0.03608736942070275,
           0.03513770180436847,
           "Child Food Security: 0.04<br>Adult Food Security: 0.04"
          ],
          [
           0.020378457059679767,
           0.07132459970887918,
           "Child Food Security: 0.02<br>Adult Food Security: 0.07"
          ],
          [
           0.029612756264236904,
           0.06378132118451026,
           "Child Food Security: 0.03<br>Adult Food Security: 0.06"
          ],
          [
           0.03178484107579462,
           0.05745721271393643,
           "Child Food Security: 0.03<br>Adult Food Security: 0.06"
          ],
          [
           0.03289473684210526,
           0.05592105263157895,
           "Child Food Security: 0.03<br>Adult Food Security: 0.06"
          ],
          [
           0.03407601572739188,
           0.04325032765399738,
           "Child Food Security: 0.03<br>Adult Food Security: 0.04"
          ],
          [
           0.004477611940298508,
           0.05522388059701493,
           "Child Food Security: 0.0<br>Adult Food Security: 0.06"
          ],
          [
           0.011782032400589101,
           0.050073637702503684,
           "Child Food Security: 0.01<br>Adult Food Security: 0.05"
          ],
          [
           0.0213857998289136,
           0.05474764756201882,
           "Child Food Security: 0.02<br>Adult Food Security: 0.05"
          ],
          [
           0.013874066168623266,
           0.025613660618996798,
           "Child Food Security: 0.01<br>Adult Food Security: 0.03"
          ],
          [
           0.021739130434782608,
           0.043478260869565216,
           "Child Food Security: 0.02<br>Adult Food Security: 0.04"
          ],
          [
           0.023346303501945526,
           0.042801556420233464,
           "Child Food Security: 0.02<br>Adult Food Security: 0.04"
          ],
          [
           0.03145853193517636,
           0.04575786463298379,
           "Child Food Security: 0.03<br>Adult Food Security: 0.05"
          ],
          [
           0.022375215146299483,
           0.027538726333907058,
           "Child Food Security: 0.02<br>Adult Food Security: 0.03"
          ],
          [
           0.041666666666666664,
           0.05603448275862069,
           "Child Food Security: 0.04<br>Adult Food Security: 0.06"
          ],
          [
           0.023630504833512353,
           0.03007518796992481,
           "Child Food Security: 0.02<br>Adult Food Security: 0.03"
          ],
          [
           0.01440329218106996,
           0.021604938271604937,
           "Child Food Security: 0.01<br>Adult Food Security: 0.02"
          ],
          [
           0.008960573476702509,
           0.044802867383512544,
           "Child Food Security: 0.01<br>Adult Food Security: 0.04"
          ],
          [
           0.03550295857988166,
           0.04378698224852071,
           "Child Food Security: 0.04<br>Adult Food Security: 0.04"
          ],
          [
           0.023529411764705882,
           0.04411764705882353,
           "Child Food Security: 0.02<br>Adult Food Security: 0.04"
          ],
          [
           0.012678288431061807,
           0.02377179080824089,
           "Child Food Security: 0.01<br>Adult Food Security: 0.02"
          ],
          [
           0.01800947867298578,
           0.03033175355450237,
           "Child Food Security: 0.02<br>Adult Food Security: 0.03"
          ],
          [
           0.010843373493975903,
           0.03855421686746988,
           "Child Food Security: 0.01<br>Adult Food Security: 0.04"
          ],
          [
           0.020066889632107024,
           0.026755852842809364,
           "Child Food Security: 0.02<br>Adult Food Security: 0.03"
          ],
          [
           0.026224641266699655,
           0.0326571004453241,
           "Child Food Security: 0.03<br>Adult Food Security: 0.03"
          ],
          [
           0.022672064777327937,
           0.034817813765182185,
           "Child Food Security: 0.02<br>Adult Food Security: 0.03"
          ],
          [
           0.043478260869565216,
           0.049689440993788817,
           "Child Food Security: 0.04<br>Adult Food Security: 0.05"
          ],
          [
           0.057003257328990226,
           0.030944625407166124,
           "Child Food Security: 0.06<br>Adult Food Security: 0.03"
          ],
          [
           0.021143304620203602,
           0.031323414252153486,
           "Child Food Security: 0.02<br>Adult Food Security: 0.03"
          ],
          [
           0.013358778625954198,
           0.03244274809160305,
           "Child Food Security: 0.01<br>Adult Food Security: 0.03"
          ],
          [
           0.030821917808219176,
           0.0502283105022831,
           "Child Food Security: 0.03<br>Adult Food Security: 0.05"
          ],
          [
           0.01565217391304348,
           0.02434782608695652,
           "Child Food Security: 0.02<br>Adult Food Security: 0.02"
          ],
          [
           0.020465116279069766,
           0.044651162790697675,
           "Child Food Security: 0.02<br>Adult Food Security: 0.04"
          ],
          [
           0.04094689699296225,
           0.04030710172744722,
           "Child Food Security: 0.04<br>Adult Food Security: 0.04"
          ],
          [
           0.04907306434023991,
           0.05561613958560523,
           "Child Food Security: 0.05<br>Adult Food Security: 0.06"
          ],
          [
           0.01871345029239766,
           0.03859649122807018,
           "Child Food Security: 0.02<br>Adult Food Security: 0.04"
          ],
          [
           0.004796163069544364,
           0.009592326139088728,
           "Child Food Security: 0.0<br>Adult Food Security: 0.01"
          ],
          [
           0.026717557251908396,
           0.043256997455470736,
           "Child Food Security: 0.03<br>Adult Food Security: 0.04"
          ],
          [
           0.0372168284789644,
           0.0372168284789644,
           "Child Food Security: 0.04<br>Adult Food Security: 0.04"
          ],
          [
           0.024163568773234202,
           0.041821561338289966,
           "Child Food Security: 0.02<br>Adult Food Security: 0.04"
          ],
          [
           0.048207663782447466,
           0.0407911001236094,
           "Child Food Security: 0.05<br>Adult Food Security: 0.04"
          ]
         ],
         "geo": "geo",
         "hovertemplate": "<b>%{hovertext}</b><br><br>state_abbrev=%{location}<br>hover_text=%{customdata[2]}<extra></extra>",
         "hovertext": [
          "AK",
          "AL",
          "AR",
          "AZ",
          "CA",
          "CO",
          "CT",
          "DC",
          "DE",
          "FL",
          "GA",
          "HI",
          "IA",
          "ID",
          "IL",
          "IN",
          "KS",
          "KY",
          "LA",
          "MA",
          "MD",
          "ME",
          "MI",
          "MN",
          "MO",
          "MS",
          "MT",
          "NC",
          "ND",
          "NE",
          "NH",
          "NJ",
          "NM",
          "NV",
          "NY",
          "OH",
          "OK",
          "OR",
          "PA",
          "RI",
          "SC",
          "SD",
          "TN",
          "TX",
          "UT",
          "VA",
          "VT",
          "WA",
          "WI",
          "WV",
          "WY"
         ],
         "locationmode": "USA-states",
         "locations": [
          "AK",
          "AL",
          "AR",
          "AZ",
          "CA",
          "CO",
          "CT",
          "DC",
          "DE",
          "FL",
          "GA",
          "HI",
          "IA",
          "ID",
          "IL",
          "IN",
          "KS",
          "KY",
          "LA",
          "MA",
          "MD",
          "ME",
          "MI",
          "MN",
          "MO",
          "MS",
          "MT",
          "NC",
          "ND",
          "NE",
          "NH",
          "NJ",
          "NM",
          "NV",
          "NY",
          "OH",
          "OK",
          "OR",
          "PA",
          "RI",
          "SC",
          "SD",
          "TN",
          "TX",
          "UT",
          "VA",
          "VT",
          "WA",
          "WI",
          "WV",
          "WY"
         ],
         "name": "",
         "type": "choropleth",
         "z": [
          0.03927492447129909,
          0.018446601941747572,
          0.044171779141104296,
          0.007856341189674524,
          0.035221602582917524,
          0.010398613518197574,
          0.022321428571428572,
          0.004351610095735422,
          0.028481012658227847,
          0.017975402081362345,
          0.03608736942070275,
          0.020378457059679767,
          0.029612756264236904,
          0.03178484107579462,
          0.03289473684210526,
          0.03407601572739188,
          0.004477611940298508,
          0.011782032400589101,
          0.0213857998289136,
          0.013874066168623266,
          0.021739130434782608,
          0.023346303501945526,
          0.03145853193517636,
          0.022375215146299483,
          0.041666666666666664,
          0.023630504833512353,
          0.01440329218106996,
          0.008960573476702509,
          0.03550295857988166,
          0.023529411764705882,
          0.012678288431061807,
          0.01800947867298578,
          0.010843373493975903,
          0.020066889632107024,
          0.026224641266699655,
          0.022672064777327937,
          0.043478260869565216,
          0.057003257328990226,
          0.021143304620203602,
          0.013358778625954198,
          0.030821917808219176,
          0.01565217391304348,
          0.020465116279069766,
          0.04094689699296225,
          0.04907306434023991,
          0.01871345029239766,
          0.004796163069544364,
          0.026717557251908396,
          0.0372168284789644,
          0.024163568773234202,
          0.048207663782447466
         ]
        }
       ],
       "layout": {
        "annotations": [
         {
          "font": {
           "size": 14
          },
          "showarrow": false,
          "text": "Child and Adult Food Security Rates in the US",
          "x": 0.5,
          "xref": "paper",
          "y": 1.15,
          "yref": "paper"
         },
         {
          "font": {
           "size": 10
          },
          "showarrow": false,
          "text": "Average food security levels.<br>Child security is shown by the map's color.",
          "x": 0.05,
          "xref": "paper",
          "y": 0.05,
          "yref": "paper"
         }
        ],
        "coloraxis": {
         "colorbar": {
          "ticksuffix": "%",
          "title": {
           "text": "Child Food Security Level"
          }
         },
         "colorscale": [
          [
           0,
           "rgb(255,245,235)"
          ],
          [
           0.125,
           "rgb(254,230,206)"
          ],
          [
           0.25,
           "rgb(253,208,162)"
          ],
          [
           0.375,
           "rgb(253,174,107)"
          ],
          [
           0.5,
           "rgb(253,141,60)"
          ],
          [
           0.625,
           "rgb(241,105,19)"
          ],
          [
           0.75,
           "rgb(217,72,1)"
          ],
          [
           0.875,
           "rgb(166,54,3)"
          ],
          [
           1,
           "rgb(127,39,4)"
          ]
         ]
        },
        "geo": {
         "center": {},
         "domain": {
          "x": [
           0,
           1
          ],
          "y": [
           0,
           1
          ]
         },
         "lakecolor": "white",
         "projection": {
          "type": "albers usa"
         },
         "scope": "usa",
         "showlakes": true
        },
        "legend": {
         "tracegroupgap": 0
        },
        "template": {
         "data": {
          "bar": [
           {
            "error_x": {
             "color": "#2a3f5f"
            },
            "error_y": {
             "color": "#2a3f5f"
            },
            "marker": {
             "line": {
              "color": "#E5ECF6",
              "width": 0.5
             },
             "pattern": {
              "fillmode": "overlay",
              "size": 10,
              "solidity": 0.2
             }
            },
            "type": "bar"
           }
          ],
          "barpolar": [
           {
            "marker": {
             "line": {
              "color": "#E5ECF6",
              "width": 0.5
             },
             "pattern": {
              "fillmode": "overlay",
              "size": 10,
              "solidity": 0.2
             }
            },
            "type": "barpolar"
           }
          ],
          "carpet": [
           {
            "aaxis": {
             "endlinecolor": "#2a3f5f",
             "gridcolor": "white",
             "linecolor": "white",
             "minorgridcolor": "white",
             "startlinecolor": "#2a3f5f"
            },
            "baxis": {
             "endlinecolor": "#2a3f5f",
             "gridcolor": "white",
             "linecolor": "white",
             "minorgridcolor": "white",
             "startlinecolor": "#2a3f5f"
            },
            "type": "carpet"
           }
          ],
          "choropleth": [
           {
            "colorbar": {
             "outlinewidth": 0,
             "ticks": ""
            },
            "type": "choropleth"
           }
          ],
          "contour": [
           {
            "colorbar": {
             "outlinewidth": 0,
             "ticks": ""
            },
            "colorscale": [
             [
              0,
              "#0d0887"
             ],
             [
              0.1111111111111111,
              "#46039f"
             ],
             [
              0.2222222222222222,
              "#7201a8"
             ],
             [
              0.3333333333333333,
              "#9c179e"
             ],
             [
              0.4444444444444444,
              "#bd3786"
             ],
             [
              0.5555555555555556,
              "#d8576b"
             ],
             [
              0.6666666666666666,
              "#ed7953"
             ],
             [
              0.7777777777777778,
              "#fb9f3a"
             ],
             [
              0.8888888888888888,
              "#fdca26"
             ],
             [
              1,
              "#f0f921"
             ]
            ],
            "type": "contour"
           }
          ],
          "contourcarpet": [
           {
            "colorbar": {
             "outlinewidth": 0,
             "ticks": ""
            },
            "type": "contourcarpet"
           }
          ],
          "heatmap": [
           {
            "colorbar": {
             "outlinewidth": 0,
             "ticks": ""
            },
            "colorscale": [
             [
              0,
              "#0d0887"
             ],
             [
              0.1111111111111111,
              "#46039f"
             ],
             [
              0.2222222222222222,
              "#7201a8"
             ],
             [
              0.3333333333333333,
              "#9c179e"
             ],
             [
              0.4444444444444444,
              "#bd3786"
             ],
             [
              0.5555555555555556,
              "#d8576b"
             ],
             [
              0.6666666666666666,
              "#ed7953"
             ],
             [
              0.7777777777777778,
              "#fb9f3a"
             ],
             [
              0.8888888888888888,
              "#fdca26"
             ],
             [
              1,
              "#f0f921"
             ]
            ],
            "type": "heatmap"
           }
          ],
          "heatmapgl": [
           {
            "colorbar": {
             "outlinewidth": 0,
             "ticks": ""
            },
            "colorscale": [
             [
              0,
              "#0d0887"
             ],
             [
              0.1111111111111111,
              "#46039f"
             ],
             [
              0.2222222222222222,
              "#7201a8"
             ],
             [
              0.3333333333333333,
              "#9c179e"
             ],
             [
              0.4444444444444444,
              "#bd3786"
             ],
             [
              0.5555555555555556,
              "#d8576b"
             ],
             [
              0.6666666666666666,
              "#ed7953"
             ],
             [
              0.7777777777777778,
              "#fb9f3a"
             ],
             [
              0.8888888888888888,
              "#fdca26"
             ],
             [
              1,
              "#f0f921"
             ]
            ],
            "type": "heatmapgl"
           }
          ],
          "histogram": [
           {
            "marker": {
             "pattern": {
              "fillmode": "overlay",
              "size": 10,
              "solidity": 0.2
             }
            },
            "type": "histogram"
           }
          ],
          "histogram2d": [
           {
            "colorbar": {
             "outlinewidth": 0,
             "ticks": ""
            },
            "colorscale": [
             [
              0,
              "#0d0887"
             ],
             [
              0.1111111111111111,
              "#46039f"
             ],
             [
              0.2222222222222222,
              "#7201a8"
             ],
             [
              0.3333333333333333,
              "#9c179e"
             ],
             [
              0.4444444444444444,
              "#bd3786"
             ],
             [
              0.5555555555555556,
              "#d8576b"
             ],
             [
              0.6666666666666666,
              "#ed7953"
             ],
             [
              0.7777777777777778,
              "#fb9f3a"
             ],
             [
              0.8888888888888888,
              "#fdca26"
             ],
             [
              1,
              "#f0f921"
             ]
            ],
            "type": "histogram2d"
           }
          ],
          "histogram2dcontour": [
           {
            "colorbar": {
             "outlinewidth": 0,
             "ticks": ""
            },
            "colorscale": [
             [
              0,
              "#0d0887"
             ],
             [
              0.1111111111111111,
              "#46039f"
             ],
             [
              0.2222222222222222,
              "#7201a8"
             ],
             [
              0.3333333333333333,
              "#9c179e"
             ],
             [
              0.4444444444444444,
              "#bd3786"
             ],
             [
              0.5555555555555556,
              "#d8576b"
             ],
             [
              0.6666666666666666,
              "#ed7953"
             ],
             [
              0.7777777777777778,
              "#fb9f3a"
             ],
             [
              0.8888888888888888,
              "#fdca26"
             ],
             [
              1,
              "#f0f921"
             ]
            ],
            "type": "histogram2dcontour"
           }
          ],
          "mesh3d": [
           {
            "colorbar": {
             "outlinewidth": 0,
             "ticks": ""
            },
            "type": "mesh3d"
           }
          ],
          "parcoords": [
           {
            "line": {
             "colorbar": {
              "outlinewidth": 0,
              "ticks": ""
             }
            },
            "type": "parcoords"
           }
          ],
          "pie": [
           {
            "automargin": true,
            "type": "pie"
           }
          ],
          "scatter": [
           {
            "fillpattern": {
             "fillmode": "overlay",
             "size": 10,
             "solidity": 0.2
            },
            "type": "scatter"
           }
          ],
          "scatter3d": [
           {
            "line": {
             "colorbar": {
              "outlinewidth": 0,
              "ticks": ""
             }
            },
            "marker": {
             "colorbar": {
              "outlinewidth": 0,
              "ticks": ""
             }
            },
            "type": "scatter3d"
           }
          ],
          "scattercarpet": [
           {
            "marker": {
             "colorbar": {
              "outlinewidth": 0,
              "ticks": ""
             }
            },
            "type": "scattercarpet"
           }
          ],
          "scattergeo": [
           {
            "marker": {
             "colorbar": {
              "outlinewidth": 0,
              "ticks": ""
             }
            },
            "type": "scattergeo"
           }
          ],
          "scattergl": [
           {
            "marker": {
             "colorbar": {
              "outlinewidth": 0,
              "ticks": ""
             }
            },
            "type": "scattergl"
           }
          ],
          "scattermapbox": [
           {
            "marker": {
             "colorbar": {
              "outlinewidth": 0,
              "ticks": ""
             }
            },
            "type": "scattermapbox"
           }
          ],
          "scatterpolar": [
           {
            "marker": {
             "colorbar": {
              "outlinewidth": 0,
              "ticks": ""
             }
            },
            "type": "scatterpolar"
           }
          ],
          "scatterpolargl": [
           {
            "marker": {
             "colorbar": {
              "outlinewidth": 0,
              "ticks": ""
             }
            },
            "type": "scatterpolargl"
           }
          ],
          "scatterternary": [
           {
            "marker": {
             "colorbar": {
              "outlinewidth": 0,
              "ticks": ""
             }
            },
            "type": "scatterternary"
           }
          ],
          "surface": [
           {
            "colorbar": {
             "outlinewidth": 0,
             "ticks": ""
            },
            "colorscale": [
             [
              0,
              "#0d0887"
             ],
             [
              0.1111111111111111,
              "#46039f"
             ],
             [
              0.2222222222222222,
              "#7201a8"
             ],
             [
              0.3333333333333333,
              "#9c179e"
             ],
             [
              0.4444444444444444,
              "#bd3786"
             ],
             [
              0.5555555555555556,
              "#d8576b"
             ],
             [
              0.6666666666666666,
              "#ed7953"
             ],
             [
              0.7777777777777778,
              "#fb9f3a"
             ],
             [
              0.8888888888888888,
              "#fdca26"
             ],
             [
              1,
              "#f0f921"
             ]
            ],
            "type": "surface"
           }
          ],
          "table": [
           {
            "cells": {
             "fill": {
              "color": "#EBF0F8"
             },
             "line": {
              "color": "white"
             }
            },
            "header": {
             "fill": {
              "color": "#C8D4E3"
             },
             "line": {
              "color": "white"
             }
            },
            "type": "table"
           }
          ]
         },
         "layout": {
          "annotationdefaults": {
           "arrowcolor": "#2a3f5f",
           "arrowhead": 0,
           "arrowwidth": 1
          },
          "autotypenumbers": "strict",
          "coloraxis": {
           "colorbar": {
            "outlinewidth": 0,
            "ticks": ""
           }
          },
          "colorscale": {
           "diverging": [
            [
             0,
             "#8e0152"
            ],
            [
             0.1,
             "#c51b7d"
            ],
            [
             0.2,
             "#de77ae"
            ],
            [
             0.3,
             "#f1b6da"
            ],
            [
             0.4,
             "#fde0ef"
            ],
            [
             0.5,
             "#f7f7f7"
            ],
            [
             0.6,
             "#e6f5d0"
            ],
            [
             0.7,
             "#b8e186"
            ],
            [
             0.8,
             "#7fbc41"
            ],
            [
             0.9,
             "#4d9221"
            ],
            [
             1,
             "#276419"
            ]
           ],
           "sequential": [
            [
             0,
             "#0d0887"
            ],
            [
             0.1111111111111111,
             "#46039f"
            ],
            [
             0.2222222222222222,
             "#7201a8"
            ],
            [
             0.3333333333333333,
             "#9c179e"
            ],
            [
             0.4444444444444444,
             "#bd3786"
            ],
            [
             0.5555555555555556,
             "#d8576b"
            ],
            [
             0.6666666666666666,
             "#ed7953"
            ],
            [
             0.7777777777777778,
             "#fb9f3a"
            ],
            [
             0.8888888888888888,
             "#fdca26"
            ],
            [
             1,
             "#f0f921"
            ]
           ],
           "sequentialminus": [
            [
             0,
             "#0d0887"
            ],
            [
             0.1111111111111111,
             "#46039f"
            ],
            [
             0.2222222222222222,
             "#7201a8"
            ],
            [
             0.3333333333333333,
             "#9c179e"
            ],
            [
             0.4444444444444444,
             "#bd3786"
            ],
            [
             0.5555555555555556,
             "#d8576b"
            ],
            [
             0.6666666666666666,
             "#ed7953"
            ],
            [
             0.7777777777777778,
             "#fb9f3a"
            ],
            [
             0.8888888888888888,
             "#fdca26"
            ],
            [
             1,
             "#f0f921"
            ]
           ]
          },
          "colorway": [
           "#636efa",
           "#EF553B",
           "#00cc96",
           "#ab63fa",
           "#FFA15A",
           "#19d3f3",
           "#FF6692",
           "#B6E880",
           "#FF97FF",
           "#FECB52"
          ],
          "font": {
           "color": "#2a3f5f"
          },
          "geo": {
           "bgcolor": "white",
           "lakecolor": "white",
           "landcolor": "#E5ECF6",
           "showlakes": true,
           "showland": true,
           "subunitcolor": "white"
          },
          "hoverlabel": {
           "align": "left"
          },
          "hovermode": "closest",
          "mapbox": {
           "style": "light"
          },
          "paper_bgcolor": "white",
          "plot_bgcolor": "#E5ECF6",
          "polar": {
           "angularaxis": {
            "gridcolor": "white",
            "linecolor": "white",
            "ticks": ""
           },
           "bgcolor": "#E5ECF6",
           "radialaxis": {
            "gridcolor": "white",
            "linecolor": "white",
            "ticks": ""
           }
          },
          "scene": {
           "xaxis": {
            "backgroundcolor": "#E5ECF6",
            "gridcolor": "white",
            "gridwidth": 2,
            "linecolor": "white",
            "showbackground": true,
            "ticks": "",
            "zerolinecolor": "white"
           },
           "yaxis": {
            "backgroundcolor": "#E5ECF6",
            "gridcolor": "white",
            "gridwidth": 2,
            "linecolor": "white",
            "showbackground": true,
            "ticks": "",
            "zerolinecolor": "white"
           },
           "zaxis": {
            "backgroundcolor": "#E5ECF6",
            "gridcolor": "white",
            "gridwidth": 2,
            "linecolor": "white",
            "showbackground": true,
            "ticks": "",
            "zerolinecolor": "white"
           }
          },
          "shapedefaults": {
           "line": {
            "color": "#2a3f5f"
           }
          },
          "ternary": {
           "aaxis": {
            "gridcolor": "white",
            "linecolor": "white",
            "ticks": ""
           },
           "baxis": {
            "gridcolor": "white",
            "linecolor": "white",
            "ticks": ""
           },
           "bgcolor": "#E5ECF6",
           "caxis": {
            "gridcolor": "white",
            "linecolor": "white",
            "ticks": ""
           }
          },
          "title": {
           "x": 0.05
          },
          "xaxis": {
           "automargin": true,
           "gridcolor": "white",
           "linecolor": "white",
           "ticks": "",
           "title": {
            "standoff": 15
           },
           "zerolinecolor": "white",
           "zerolinewidth": 2
          },
          "yaxis": {
           "automargin": true,
           "gridcolor": "white",
           "linecolor": "white",
           "ticks": "",
           "title": {
            "standoff": 15
           },
           "zerolinecolor": "white",
           "zerolinewidth": 2
          }
         }
        },
        "title": {
         "text": "Child Food Security Across the United States"
        }
       }
      }
     },
     "metadata": {},
     "output_type": "display_data"
    }
   ],
   "source": [
    "# Create a heatmap to compare between child and adult food security rate\n",
    "import plotly.express as px\n",
    "state_food_security = children_data.groupby('state_abbrev').agg(\n",
    "    avg_child_food_security=('child_food_security',lambda x: (x== 'Low Security').mean()),\n",
    "    avg_adult_food_security=('adult_food_security', lambda x: (x== 'Low Security').mean())\n",
    ").reset_index()\n",
    "\n",
    "# Create a combined column to display both child and adult food security rates\n",
    "state_food_security['hover_text'] = (\n",
    "    \"Child Food Security: \" + state_food_security['avg_child_food_security'].round(2).astype(str) +\n",
    "    \"<br>Adult Food Security: \" + state_food_security['avg_adult_food_security'].round(2).astype(str)\n",
    ")\n",
    "\n",
    "# Create the choropleth map\n",
    "fig = px.choropleth(\n",
    "    state_food_security,\n",
    "    locations=\"state_abbrev\",  # State abbreviations\n",
    "    locationmode=\"USA-states\",  # Match state abbreviations to USA states\n",
    "    color=\"avg_child_food_security\",  # Color based on child food security\n",
    "    hover_name=\"state_abbrev\",  # Display state abbreviations on hover\n",
    "    hover_data={'avg_child_food_security': False, 'avg_adult_food_security': False, 'hover_text': True},  # Control hover display\n",
    "    color_continuous_scale=\"Oranges\",  # Use a color scale\n",
    "    title=\"Child Food Security Across the United States\",\n",
    ")\n",
    "\n",
    "# Update map layout for better visuals\n",
    "fig.update_layout(\n",
    "    geo=dict(\n",
    "        scope=\"usa\",  # Focus on the USA\n",
    "        projection=dict(type=\"albers usa\"),  # USA-centric projection\n",
    "        showlakes=True,  # Display lakes\n",
    "        lakecolor=\"white\",  # Set lake color\n",
    "    ),\n",
    "    coloraxis_colorbar=dict(\n",
    "        title=\"Child Food Security Level\",\n",
    "        ticksuffix=\"%\",\n",
    "    ),\n",
    "    annotations=[\n",
    "        dict(\n",
    "            x=0.5,\n",
    "            y=1.15,\n",
    "            xref=\"paper\",\n",
    "            yref=\"paper\",\n",
    "            text=\"Child and Adult Food Security Rates in the US\",\n",
    "            showarrow=False,\n",
    "            font=dict(size=14),\n",
    "        ),\n",
    "        dict(\n",
    "            x=0.05,\n",
    "            y=0.05,\n",
    "            xref=\"paper\",\n",
    "            yref=\"paper\",\n",
    "            text=\"Average food security levels.<br>Child security is shown by the map's color.\",\n",
    "            showarrow=False,\n",
    "            font=dict(size=10),\n",
    "        ),\n",
    "    ]\n",
    ")\n",
    "\n",
    "# Show the map\n",
    "fig.show()\n"
   ]
  },
  {
   "cell_type": "code",
   "execution_count": 62,
   "metadata": {},
   "outputs": [
    {
     "data": {
      "application/vnd.plotly.v1+json": {
       "config": {
        "plotlyServerURL": "https://plot.ly"
       },
       "data": [
        {
         "alignmentgroup": "True",
         "hovertemplate": "Security Type=Child Food Security<br>Food Security Rate=%{x}<br>State=%{y}<extra></extra>",
         "legendgroup": "Child Food Security",
         "marker": {
          "color": "orange",
          "pattern": {
           "shape": ""
          }
         },
         "name": "Child Food Security",
         "offsetgroup": "Child Food Security",
         "orientation": "h",
         "showlegend": true,
         "textposition": "auto",
         "type": "bar",
         "x": [
          0.057003257328990226,
          0.04907306434023991,
          0.048207663782447466,
          0.044171779141104296,
          0.043478260869565216,
          0.041666666666666664,
          0.04094689699296225,
          0.03927492447129909,
          0.0372168284789644,
          0.03608736942070275,
          0.004351610095735422,
          0.004477611940298508,
          0.004796163069544364,
          0.007856341189674524,
          0.008960573476702509,
          0.010398613518197574,
          0.010843373493975903,
          0.011782032400589101,
          0.012678288431061807,
          0.013358778625954198
         ],
         "xaxis": "x",
         "y": [
          "OR",
          "UT",
          "WY",
          "AR",
          "OK",
          "MO",
          "TX",
          "AK",
          "WI",
          "GA",
          "DC",
          "KS",
          "VT",
          "AZ",
          "NC",
          "CO",
          "NM",
          "KY",
          "NH",
          "RI"
         ],
         "yaxis": "y"
        },
        {
         "alignmentgroup": "True",
         "hovertemplate": "Security Type=Adult Food Security<br>Food Security Rate=%{x}<br>State=%{y}<extra></extra>",
         "legendgroup": "Adult Food Security",
         "marker": {
          "color": "blue",
          "pattern": {
           "shape": ""
          }
         },
         "name": "Adult Food Security",
         "offsetgroup": "Adult Food Security",
         "orientation": "h",
         "showlegend": true,
         "textposition": "auto",
         "type": "bar",
         "x": [
          0.030944625407166124,
          0.05561613958560523,
          0.0407911001236094,
          0.0638036809815951,
          0.049689440993788817,
          0.05603448275862069,
          0.04030710172744722,
          0.055891238670694864,
          0.0372168284789644,
          0.03513770180436847,
          0.014795474325500435,
          0.05522388059701493,
          0.009592326139088728,
          0.024691358024691357,
          0.044802867383512544,
          0.019064124783362217,
          0.03855421686746988,
          0.050073637702503684,
          0.02377179080824089,
          0.03244274809160305
         ],
         "xaxis": "x",
         "y": [
          "OR",
          "UT",
          "WY",
          "AR",
          "OK",
          "MO",
          "TX",
          "AK",
          "WI",
          "GA",
          "DC",
          "KS",
          "VT",
          "AZ",
          "NC",
          "CO",
          "NM",
          "KY",
          "NH",
          "RI"
         ],
         "yaxis": "y"
        }
       ],
       "layout": {
        "annotations": [
         {
          "align": "center",
          "bgcolor": "white",
          "borderpad": 4,
          "font": {
           "color": "black",
           "size": 12
          },
          "showarrow": false,
          "text": "Correlation between Family Income and Child Food Security: -0.18",
          "x": 0.5,
          "xref": "paper",
          "y": 1.1,
          "yref": "paper"
         }
        ],
        "barmode": "group",
        "legend": {
         "title": {
          "text": "Security Type"
         },
         "tracegroupgap": 0
        },
        "template": {
         "data": {
          "bar": [
           {
            "error_x": {
             "color": "#2a3f5f"
            },
            "error_y": {
             "color": "#2a3f5f"
            },
            "marker": {
             "line": {
              "color": "#E5ECF6",
              "width": 0.5
             },
             "pattern": {
              "fillmode": "overlay",
              "size": 10,
              "solidity": 0.2
             }
            },
            "type": "bar"
           }
          ],
          "barpolar": [
           {
            "marker": {
             "line": {
              "color": "#E5ECF6",
              "width": 0.5
             },
             "pattern": {
              "fillmode": "overlay",
              "size": 10,
              "solidity": 0.2
             }
            },
            "type": "barpolar"
           }
          ],
          "carpet": [
           {
            "aaxis": {
             "endlinecolor": "#2a3f5f",
             "gridcolor": "white",
             "linecolor": "white",
             "minorgridcolor": "white",
             "startlinecolor": "#2a3f5f"
            },
            "baxis": {
             "endlinecolor": "#2a3f5f",
             "gridcolor": "white",
             "linecolor": "white",
             "minorgridcolor": "white",
             "startlinecolor": "#2a3f5f"
            },
            "type": "carpet"
           }
          ],
          "choropleth": [
           {
            "colorbar": {
             "outlinewidth": 0,
             "ticks": ""
            },
            "type": "choropleth"
           }
          ],
          "contour": [
           {
            "colorbar": {
             "outlinewidth": 0,
             "ticks": ""
            },
            "colorscale": [
             [
              0,
              "#0d0887"
             ],
             [
              0.1111111111111111,
              "#46039f"
             ],
             [
              0.2222222222222222,
              "#7201a8"
             ],
             [
              0.3333333333333333,
              "#9c179e"
             ],
             [
              0.4444444444444444,
              "#bd3786"
             ],
             [
              0.5555555555555556,
              "#d8576b"
             ],
             [
              0.6666666666666666,
              "#ed7953"
             ],
             [
              0.7777777777777778,
              "#fb9f3a"
             ],
             [
              0.8888888888888888,
              "#fdca26"
             ],
             [
              1,
              "#f0f921"
             ]
            ],
            "type": "contour"
           }
          ],
          "contourcarpet": [
           {
            "colorbar": {
             "outlinewidth": 0,
             "ticks": ""
            },
            "type": "contourcarpet"
           }
          ],
          "heatmap": [
           {
            "colorbar": {
             "outlinewidth": 0,
             "ticks": ""
            },
            "colorscale": [
             [
              0,
              "#0d0887"
             ],
             [
              0.1111111111111111,
              "#46039f"
             ],
             [
              0.2222222222222222,
              "#7201a8"
             ],
             [
              0.3333333333333333,
              "#9c179e"
             ],
             [
              0.4444444444444444,
              "#bd3786"
             ],
             [
              0.5555555555555556,
              "#d8576b"
             ],
             [
              0.6666666666666666,
              "#ed7953"
             ],
             [
              0.7777777777777778,
              "#fb9f3a"
             ],
             [
              0.8888888888888888,
              "#fdca26"
             ],
             [
              1,
              "#f0f921"
             ]
            ],
            "type": "heatmap"
           }
          ],
          "heatmapgl": [
           {
            "colorbar": {
             "outlinewidth": 0,
             "ticks": ""
            },
            "colorscale": [
             [
              0,
              "#0d0887"
             ],
             [
              0.1111111111111111,
              "#46039f"
             ],
             [
              0.2222222222222222,
              "#7201a8"
             ],
             [
              0.3333333333333333,
              "#9c179e"
             ],
             [
              0.4444444444444444,
              "#bd3786"
             ],
             [
              0.5555555555555556,
              "#d8576b"
             ],
             [
              0.6666666666666666,
              "#ed7953"
             ],
             [
              0.7777777777777778,
              "#fb9f3a"
             ],
             [
              0.8888888888888888,
              "#fdca26"
             ],
             [
              1,
              "#f0f921"
             ]
            ],
            "type": "heatmapgl"
           }
          ],
          "histogram": [
           {
            "marker": {
             "pattern": {
              "fillmode": "overlay",
              "size": 10,
              "solidity": 0.2
             }
            },
            "type": "histogram"
           }
          ],
          "histogram2d": [
           {
            "colorbar": {
             "outlinewidth": 0,
             "ticks": ""
            },
            "colorscale": [
             [
              0,
              "#0d0887"
             ],
             [
              0.1111111111111111,
              "#46039f"
             ],
             [
              0.2222222222222222,
              "#7201a8"
             ],
             [
              0.3333333333333333,
              "#9c179e"
             ],
             [
              0.4444444444444444,
              "#bd3786"
             ],
             [
              0.5555555555555556,
              "#d8576b"
             ],
             [
              0.6666666666666666,
              "#ed7953"
             ],
             [
              0.7777777777777778,
              "#fb9f3a"
             ],
             [
              0.8888888888888888,
              "#fdca26"
             ],
             [
              1,
              "#f0f921"
             ]
            ],
            "type": "histogram2d"
           }
          ],
          "histogram2dcontour": [
           {
            "colorbar": {
             "outlinewidth": 0,
             "ticks": ""
            },
            "colorscale": [
             [
              0,
              "#0d0887"
             ],
             [
              0.1111111111111111,
              "#46039f"
             ],
             [
              0.2222222222222222,
              "#7201a8"
             ],
             [
              0.3333333333333333,
              "#9c179e"
             ],
             [
              0.4444444444444444,
              "#bd3786"
             ],
             [
              0.5555555555555556,
              "#d8576b"
             ],
             [
              0.6666666666666666,
              "#ed7953"
             ],
             [
              0.7777777777777778,
              "#fb9f3a"
             ],
             [
              0.8888888888888888,
              "#fdca26"
             ],
             [
              1,
              "#f0f921"
             ]
            ],
            "type": "histogram2dcontour"
           }
          ],
          "mesh3d": [
           {
            "colorbar": {
             "outlinewidth": 0,
             "ticks": ""
            },
            "type": "mesh3d"
           }
          ],
          "parcoords": [
           {
            "line": {
             "colorbar": {
              "outlinewidth": 0,
              "ticks": ""
             }
            },
            "type": "parcoords"
           }
          ],
          "pie": [
           {
            "automargin": true,
            "type": "pie"
           }
          ],
          "scatter": [
           {
            "fillpattern": {
             "fillmode": "overlay",
             "size": 10,
             "solidity": 0.2
            },
            "type": "scatter"
           }
          ],
          "scatter3d": [
           {
            "line": {
             "colorbar": {
              "outlinewidth": 0,
              "ticks": ""
             }
            },
            "marker": {
             "colorbar": {
              "outlinewidth": 0,
              "ticks": ""
             }
            },
            "type": "scatter3d"
           }
          ],
          "scattercarpet": [
           {
            "marker": {
             "colorbar": {
              "outlinewidth": 0,
              "ticks": ""
             }
            },
            "type": "scattercarpet"
           }
          ],
          "scattergeo": [
           {
            "marker": {
             "colorbar": {
              "outlinewidth": 0,
              "ticks": ""
             }
            },
            "type": "scattergeo"
           }
          ],
          "scattergl": [
           {
            "marker": {
             "colorbar": {
              "outlinewidth": 0,
              "ticks": ""
             }
            },
            "type": "scattergl"
           }
          ],
          "scattermapbox": [
           {
            "marker": {
             "colorbar": {
              "outlinewidth": 0,
              "ticks": ""
             }
            },
            "type": "scattermapbox"
           }
          ],
          "scatterpolar": [
           {
            "marker": {
             "colorbar": {
              "outlinewidth": 0,
              "ticks": ""
             }
            },
            "type": "scatterpolar"
           }
          ],
          "scatterpolargl": [
           {
            "marker": {
             "colorbar": {
              "outlinewidth": 0,
              "ticks": ""
             }
            },
            "type": "scatterpolargl"
           }
          ],
          "scatterternary": [
           {
            "marker": {
             "colorbar": {
              "outlinewidth": 0,
              "ticks": ""
             }
            },
            "type": "scatterternary"
           }
          ],
          "surface": [
           {
            "colorbar": {
             "outlinewidth": 0,
             "ticks": ""
            },
            "colorscale": [
             [
              0,
              "#0d0887"
             ],
             [
              0.1111111111111111,
              "#46039f"
             ],
             [
              0.2222222222222222,
              "#7201a8"
             ],
             [
              0.3333333333333333,
              "#9c179e"
             ],
             [
              0.4444444444444444,
              "#bd3786"
             ],
             [
              0.5555555555555556,
              "#d8576b"
             ],
             [
              0.6666666666666666,
              "#ed7953"
             ],
             [
              0.7777777777777778,
              "#fb9f3a"
             ],
             [
              0.8888888888888888,
              "#fdca26"
             ],
             [
              1,
              "#f0f921"
             ]
            ],
            "type": "surface"
           }
          ],
          "table": [
           {
            "cells": {
             "fill": {
              "color": "#EBF0F8"
             },
             "line": {
              "color": "white"
             }
            },
            "header": {
             "fill": {
              "color": "#C8D4E3"
             },
             "line": {
              "color": "white"
             }
            },
            "type": "table"
           }
          ]
         },
         "layout": {
          "annotationdefaults": {
           "arrowcolor": "#2a3f5f",
           "arrowhead": 0,
           "arrowwidth": 1
          },
          "autotypenumbers": "strict",
          "coloraxis": {
           "colorbar": {
            "outlinewidth": 0,
            "ticks": ""
           }
          },
          "colorscale": {
           "diverging": [
            [
             0,
             "#8e0152"
            ],
            [
             0.1,
             "#c51b7d"
            ],
            [
             0.2,
             "#de77ae"
            ],
            [
             0.3,
             "#f1b6da"
            ],
            [
             0.4,
             "#fde0ef"
            ],
            [
             0.5,
             "#f7f7f7"
            ],
            [
             0.6,
             "#e6f5d0"
            ],
            [
             0.7,
             "#b8e186"
            ],
            [
             0.8,
             "#7fbc41"
            ],
            [
             0.9,
             "#4d9221"
            ],
            [
             1,
             "#276419"
            ]
           ],
           "sequential": [
            [
             0,
             "#0d0887"
            ],
            [
             0.1111111111111111,
             "#46039f"
            ],
            [
             0.2222222222222222,
             "#7201a8"
            ],
            [
             0.3333333333333333,
             "#9c179e"
            ],
            [
             0.4444444444444444,
             "#bd3786"
            ],
            [
             0.5555555555555556,
             "#d8576b"
            ],
            [
             0.6666666666666666,
             "#ed7953"
            ],
            [
             0.7777777777777778,
             "#fb9f3a"
            ],
            [
             0.8888888888888888,
             "#fdca26"
            ],
            [
             1,
             "#f0f921"
            ]
           ],
           "sequentialminus": [
            [
             0,
             "#0d0887"
            ],
            [
             0.1111111111111111,
             "#46039f"
            ],
            [
             0.2222222222222222,
             "#7201a8"
            ],
            [
             0.3333333333333333,
             "#9c179e"
            ],
            [
             0.4444444444444444,
             "#bd3786"
            ],
            [
             0.5555555555555556,
             "#d8576b"
            ],
            [
             0.6666666666666666,
             "#ed7953"
            ],
            [
             0.7777777777777778,
             "#fb9f3a"
            ],
            [
             0.8888888888888888,
             "#fdca26"
            ],
            [
             1,
             "#f0f921"
            ]
           ]
          },
          "colorway": [
           "#636efa",
           "#EF553B",
           "#00cc96",
           "#ab63fa",
           "#FFA15A",
           "#19d3f3",
           "#FF6692",
           "#B6E880",
           "#FF97FF",
           "#FECB52"
          ],
          "font": {
           "color": "#2a3f5f"
          },
          "geo": {
           "bgcolor": "white",
           "lakecolor": "white",
           "landcolor": "#E5ECF6",
           "showlakes": true,
           "showland": true,
           "subunitcolor": "white"
          },
          "hoverlabel": {
           "align": "left"
          },
          "hovermode": "closest",
          "mapbox": {
           "style": "light"
          },
          "paper_bgcolor": "white",
          "plot_bgcolor": "#E5ECF6",
          "polar": {
           "angularaxis": {
            "gridcolor": "white",
            "linecolor": "white",
            "ticks": ""
           },
           "bgcolor": "#E5ECF6",
           "radialaxis": {
            "gridcolor": "white",
            "linecolor": "white",
            "ticks": ""
           }
          },
          "scene": {
           "xaxis": {
            "backgroundcolor": "#E5ECF6",
            "gridcolor": "white",
            "gridwidth": 2,
            "linecolor": "white",
            "showbackground": true,
            "ticks": "",
            "zerolinecolor": "white"
           },
           "yaxis": {
            "backgroundcolor": "#E5ECF6",
            "gridcolor": "white",
            "gridwidth": 2,
            "linecolor": "white",
            "showbackground": true,
            "ticks": "",
            "zerolinecolor": "white"
           },
           "zaxis": {
            "backgroundcolor": "#E5ECF6",
            "gridcolor": "white",
            "gridwidth": 2,
            "linecolor": "white",
            "showbackground": true,
            "ticks": "",
            "zerolinecolor": "white"
           }
          },
          "shapedefaults": {
           "line": {
            "color": "#2a3f5f"
           }
          },
          "ternary": {
           "aaxis": {
            "gridcolor": "white",
            "linecolor": "white",
            "ticks": ""
           },
           "baxis": {
            "gridcolor": "white",
            "linecolor": "white",
            "ticks": ""
           },
           "bgcolor": "#E5ECF6",
           "caxis": {
            "gridcolor": "white",
            "linecolor": "white",
            "ticks": ""
           }
          },
          "title": {
           "x": 0.05
          },
          "xaxis": {
           "automargin": true,
           "gridcolor": "white",
           "linecolor": "white",
           "ticks": "",
           "title": {
            "standoff": 15
           },
           "zerolinecolor": "white",
           "zerolinewidth": 2
          },
          "yaxis": {
           "automargin": true,
           "gridcolor": "white",
           "linecolor": "white",
           "ticks": "",
           "title": {
            "standoff": 15
           },
           "zerolinecolor": "white",
           "zerolinewidth": 2
          }
         }
        },
        "title": {
         "text": "Top 10 Highest and Lowest Child Food Security by State"
        },
        "xaxis": {
         "anchor": "y",
         "domain": [
          0,
          1
         ],
         "tickformat": ".0%",
         "title": {
          "text": "Food Security Rate"
         }
        },
        "yaxis": {
         "anchor": "x",
         "domain": [
          0,
          1
         ],
         "dtick": 1,
         "tick0": 0,
         "tickmode": "linear",
         "title": {
          "text": "State"
         }
        }
       }
      }
     },
     "metadata": {},
     "output_type": "display_data"
    }
   ],
   "source": [
    "# Create a horizontal barplot to compare betwwen the variables and find correaltion of Child and adult food security and household income\n",
    "import plotly.express as px\n",
    "\n",
    "# convert values to numeric\n",
    "def convert_income_to_numeric(income_str):\n",
    "    try:\n",
    "        # Remove dollar signs and commas\n",
    "        income_str = income_str.replace('$', '').replace(',', '')\n",
    "        \n",
    "        # If it's a range like \"$75,000 to $99,999\", extract the midpoint\n",
    "        if 'to' in income_str:\n",
    "            low, high = income_str.split(' to ')\n",
    "            low = int(low)\n",
    "            high = int(high)\n",
    "            return (low + high) / 2  # Take the midpoint of the range\n",
    "        else:\n",
    "            # If it's a single value, just convert it\n",
    "            return int(income_str)\n",
    "    except Exception as e:\n",
    "        return None  # Handle invalid data by returning None\n",
    "\n",
    "# Assuming the 'children_data' DataFrame has the 'family_income' column\n",
    "children_data = children_data.copy()  # Make a copy of the original DataFrame\n",
    "\n",
    "# Apply the conversion to the 'family_income' column and create a new numeric column\n",
    "children_data['family_income_numeric'] = children_data['family_income'].apply(convert_income_to_numeric)\n",
    "\n",
    "# Subset the data to get the top 10 highest and lowest states by child food security\n",
    "top_10_highest = state_food_security.nlargest(10, 'avg_child_food_security')  # Top 10 highest\n",
    "top_10_lowest = state_food_security.nsmallest(10, 'avg_child_food_security')  # Top 10 lowest\n",
    "\n",
    "# Combine both subsets\n",
    "subset_data = pd.concat([top_10_highest, top_10_lowest])\n",
    "\n",
    "# Create a new dataframe for plotting\n",
    "subset_data_melted = subset_data.melt(id_vars=\"state_abbrev\", \n",
    "                                      value_vars=[\"avg_child_food_security\", \"avg_adult_food_security\"], \n",
    "                                      var_name=\"food_security_type\", \n",
    "                                      value_name=\"security_rate\")\n",
    "\n",
    "# Update labels for readability\n",
    "subset_data_melted[\"food_security_type\"] = subset_data_melted[\"food_security_type\"].replace({\n",
    "    \"avg_child_food_security\": \"Child Food Security\",\n",
    "    \"avg_adult_food_security\": \"Adult Food Security\"\n",
    "})\n",
    "\n",
    "# Calculate the correlation between Family Income and Child Food Security\n",
    "correlation = children_data[['child_food_security', 'family_income_numeric']].copy()\n",
    "\n",
    "# Convert 'Low Security' to 1 and 'High Security' to 0 for correlation purposes\n",
    "correlation['child_food_security'] = correlation['child_food_security'].apply(lambda x: 1 if x == 'Low Security' else 0)\n",
    "\n",
    "# Calculate correlation\n",
    "correlation_matrix = correlation.corr()\n",
    "\n",
    "# Extract correlation value\n",
    "correlation_value = correlation_matrix.loc['child_food_security', 'family_income_numeric']\n",
    "\n",
    "# Create the horizontal bar plot\n",
    "fig = px.bar(\n",
    "    subset_data_melted,\n",
    "    x=\"security_rate\",\n",
    "    y=\"state_abbrev\",\n",
    "    color=\"food_security_type\",\n",
    "    orientation=\"h\",  # Horizontal bars\n",
    "    title=\"Top 10 Highest and Lowest Child Food Security by State\",\n",
    "    labels={\"security_rate\": \"Food Security Rate\", \"state_abbrev\": \"State\", \"food_security_type\": \"Security Type\"},\n",
    "    color_discrete_map={\"Child Food Security\": \"orange\", \"Adult Food Security\": \"blue\"},\n",
    ")\n",
    "\n",
    "# Update layout for better visuals\n",
    "fig.update_layout(\n",
    "    barmode=\"group\",  # Group the bars side by side\n",
    "    xaxis=dict(tickformat=\".0%\"),  # Show percentages\n",
    "    yaxis=dict(tickmode=\"linear\", tick0=0, dtick=1),  # Ensure the y-axis has labels for each state\n",
    ")\n",
    "\n",
    "# Add a correlation annotation to the plot\n",
    "fig.add_annotation(\n",
    "    x=0.5,  # X position in the plot (relative to plot area)\n",
    "    y=1.1,  # Y position (above the plot)\n",
    "    text=f\"Correlation between Family Income and Child Food Security: {correlation_value:.2f}\",\n",
    "    showarrow=False,\n",
    "    font=dict(size=12, color=\"black\"),\n",
    "    align=\"center\",\n",
    "    xref=\"paper\",  # Coordinate system is relative to the plot area\n",
    "    yref=\"paper\",  # Coordinate system is relative to the plot area\n",
    "    borderpad=4,\n",
    "    bgcolor=\"white\",\n",
    ")\n",
    "\n",
    "# Show the plot\n",
    "fig.show()\n",
    "\n"
   ]
  },
  {
   "cell_type": "markdown",
   "metadata": {},
   "source": [
    "### Dear Senator, ###\n",
    " ### After performimg a deep analysis using data on children and food insecurity in the U.S, I came up with the conclusion that we do have a problem on this area, and that aligns heavily with poverty levels particularly impacting children. We can clearly see in the graphs above that, there are states with higher food insecurity rates for children than adults, poverty levels show a direct correlation with food insecurity, leaving many children without access to the nutrition needed for healthy development. As they grow, these children face heightened risks of health issues, educational setbacks. Addressing food insecurity now isn’t just compassionate; it’s an investment in America’s future workforce and economic stability.\n",
    "#### Sincerly,\n",
    "#### Victor H Torres. ####"
   ]
  }
 ],
 "metadata": {
  "kernelspec": {
   "display_name": ".venv",
   "language": "python",
   "name": "python3"
  },
  "language_info": {
   "codemirror_mode": {
    "name": "ipython",
    "version": 3
   },
   "file_extension": ".py",
   "mimetype": "text/x-python",
   "name": "python",
   "nbconvert_exporter": "python",
   "pygments_lexer": "ipython3",
   "version": "3.12.4"
  }
 },
 "nbformat": 4,
 "nbformat_minor": 2
}
